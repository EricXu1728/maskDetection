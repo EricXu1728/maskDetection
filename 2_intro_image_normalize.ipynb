{
 "cells": [
  {
   "cell_type": "markdown",
   "id": "ddf34490",
   "metadata": {},
   "source": [
    "### Review basic standard deviatioin concept"
   ]
  },
  {
   "cell_type": "code",
   "execution_count": 1,
   "id": "3a2df8de",
   "metadata": {},
   "outputs": [
    {
     "data": {
      "text/plain": [
       "tensor([2., 3., 5., 6., 7., 4., 8., 7., 6.])"
      ]
     },
     "execution_count": 1,
     "metadata": {},
     "output_type": "execute_result"
    }
   ],
   "source": [
    "#https://medium.com/mlearning-ai/understanding-torchvision-functionalities-for-pytorch-part-2-transforms-886b60d5c23a\n",
    "import torch\n",
    "from torchvision import transforms\n",
    "from PIL import Image\n",
    "import os\n",
    "# Normalization=(standardization): (x-mean)/standard_dev\n",
    "torch.Tensor([2,3,5,6,7,4,8,7,6])"
   ]
  },
  {
   "cell_type": "code",
   "execution_count": 2,
   "id": "9b3e5ebb",
   "metadata": {},
   "outputs": [
    {
     "name": "stdout",
     "output_type": "stream",
     "text": [
      "tensor(5.3333)\n"
     ]
    }
   ],
   "source": [
    "m=torch.mean(torch.Tensor([2,3,5,6,7,4,8,7,6]))\n",
    "print(m)"
   ]
  },
  {
   "cell_type": "code",
   "execution_count": 3,
   "id": "8c1098fd",
   "metadata": {},
   "outputs": [
    {
     "name": "stdout",
     "output_type": "stream",
     "text": [
      "tensor(2.)\n"
     ]
    }
   ],
   "source": [
    "s=torch.std(torch.Tensor([2,3,5,6,7,4,8,7,6]))\n",
    "print(s)"
   ]
  },
  {
   "cell_type": "code",
   "execution_count": 4,
   "id": "536134db",
   "metadata": {},
   "outputs": [
    {
     "name": "stdout",
     "output_type": "stream",
     "text": [
      "[tensor(-1.6667), tensor(-1.1667), tensor(-0.1667), tensor(0.3333), tensor(0.8333), tensor(-0.6667), tensor(1.3333), tensor(0.8333), tensor(0.3333)]\n"
     ]
    }
   ],
   "source": [
    "data=[(x-m)/s for x in torch.Tensor([2,3,5,6,7,4,8,7,6])]\n",
    "print(data)"
   ]
  },
  {
   "cell_type": "code",
   "execution_count": 5,
   "id": "ab257fca",
   "metadata": {},
   "outputs": [
    {
     "name": "stdout",
     "output_type": "stream",
     "text": [
      "[-1.6666667461395264, -1.1666667461395264, -0.16666674613952637, 0.33333325386047363, 0.8333332538604736, -0.6666667461395264, 1.3333332538604736, 0.8333332538604736, 0.33333325386047363]\n"
     ]
    }
   ],
   "source": [
    "# conver to a list\n",
    "data=[x.item() for x in data]\n",
    "print(data)"
   ]
  },
  {
   "cell_type": "markdown",
   "id": "e02e78ea",
   "metadata": {},
   "source": [
    "### Draw histogram"
   ]
  },
  {
   "cell_type": "code",
   "execution_count": 6,
   "id": "f39b2d74",
   "metadata": {},
   "outputs": [],
   "source": [
    "t=transforms.ToTensor()\n",
    "ts=t(Image.open(os.path.join(os.getcwd(), \"data/validation/pos/Snipaste_2022-01-12_19-04-13.jpg\") ))"
   ]
  },
  {
   "cell_type": "code",
   "execution_count": 7,
   "id": "a179c62b",
   "metadata": {},
   "outputs": [
    {
     "data": {
      "text/plain": [
       "torch.Size([3, 188, 239])"
      ]
     },
     "execution_count": 7,
     "metadata": {},
     "output_type": "execute_result"
    }
   ],
   "source": [
    "ts.shape"
   ]
  },
  {
   "cell_type": "code",
   "execution_count": 8,
   "id": "f7264cb7",
   "metadata": {},
   "outputs": [
    {
     "data": {
      "text/plain": [
       "torch.Size([188, 239])"
      ]
     },
     "execution_count": 8,
     "metadata": {},
     "output_type": "execute_result"
    }
   ],
   "source": [
    "ts[0].shape # first channel"
   ]
  },
  {
   "cell_type": "code",
   "execution_count": 9,
   "id": "55544268",
   "metadata": {},
   "outputs": [
    {
     "data": {
      "text/plain": [
       "tensor([[0.5843, 0.5843, 0.5843,  ..., 0.7725, 0.7569, 0.7490],\n",
       "        [0.5804, 0.5843, 0.5843,  ..., 0.7765, 0.7647, 0.7569],\n",
       "        [0.5804, 0.5804, 0.5843,  ..., 0.7843, 0.7765, 0.7647],\n",
       "        ...,\n",
       "        [0.7059, 0.7059, 0.7098,  ..., 0.8235, 0.8314, 0.8353],\n",
       "        [0.6784, 0.6784, 0.6824,  ..., 0.8235, 0.8314, 0.8392],\n",
       "        [0.6745, 0.6745, 0.6784,  ..., 0.8196, 0.8235, 0.8314]])"
      ]
     },
     "execution_count": 9,
     "metadata": {},
     "output_type": "execute_result"
    }
   ],
   "source": [
    "ts[0]  # first channel data"
   ]
  },
  {
   "cell_type": "code",
   "execution_count": 10,
   "id": "8a6b79ea",
   "metadata": {},
   "outputs": [],
   "source": [
    "from PIL import Image\n",
    "import matplotlib.pyplot as plt\n",
    "import numpy as np"
   ]
  },
  {
   "cell_type": "code",
   "execution_count": 11,
   "id": "65128b48",
   "metadata": {},
   "outputs": [],
   "source": [
    "img = Image.open(os.path.join(os.getcwd(), \"data/validation/pos/Snipaste_2022-01-12_19-04-13.jpg\"))"
   ]
  },
  {
   "cell_type": "code",
   "execution_count": 12,
   "id": "d0628f05",
   "metadata": {},
   "outputs": [],
   "source": [
    "# convert PIL image to numpy array\n",
    "img_np = np.array(img)"
   ]
  },
  {
   "cell_type": "code",
   "execution_count": 13,
   "id": "f5c03415",
   "metadata": {},
   "outputs": [
    {
     "data": {
      "text/plain": [
       "(188, 239, 3)"
      ]
     },
     "execution_count": 13,
     "metadata": {},
     "output_type": "execute_result"
    }
   ],
   "source": [
    "img_np.shape # note that torch.Size([3, 188, 239]) and image.size is (239, 188)"
   ]
  },
  {
   "cell_type": "code",
   "execution_count": 14,
   "id": "5646d253",
   "metadata": {},
   "outputs": [
    {
     "data": {
      "text/plain": [
       "array([149, 128, 101, ..., 212, 209, 220], dtype=uint8)"
      ]
     },
     "execution_count": 14,
     "metadata": {},
     "output_type": "execute_result"
    }
   ],
   "source": [
    "img_np.ravel() # conver to one dimention"
   ]
  },
  {
   "cell_type": "code",
   "execution_count": 15,
   "id": "0b7d3838",
   "metadata": {},
   "outputs": [
    {
     "data": {
      "text/plain": [
       "134796"
      ]
     },
     "execution_count": 15,
     "metadata": {},
     "output_type": "execute_result"
    }
   ],
   "source": [
    "len(img_np.ravel())"
   ]
  },
  {
   "cell_type": "code",
   "execution_count": 16,
   "id": "0316bbbe",
   "metadata": {},
   "outputs": [
    {
     "data": {
      "text/plain": [
       "134796"
      ]
     },
     "execution_count": 16,
     "metadata": {},
     "output_type": "execute_result"
    }
   ],
   "source": [
    "188*239*3"
   ]
  },
  {
   "cell_type": "code",
   "execution_count": 17,
   "id": "597d6813",
   "metadata": {},
   "outputs": [
    {
     "data": {
      "text/plain": [
       "Text(0.5, 1.0, 'distribution of pixels')"
      ]
     },
     "execution_count": 17,
     "metadata": {},
     "output_type": "execute_result"
    },
    {
     "data": {
      "image/png": "[encoded data removed]",
      "text/plain": [
       "<Figure size 432x288 with 1 Axes>"
      ]
     },
     "metadata": {
      "needs_background": "light"
     },
     "output_type": "display_data"
    }
   ],
   "source": [
    "# plot the pixel values\n",
    "plt.hist(img_np.ravel(), bins=256, color = 'orange', )\n",
    "plt.hist(img_np[:, :, 0].ravel(), bins = 256, color = 'red', alpha = 0.5)\n",
    "plt.hist(img_np[:, :, 1].ravel(), bins = 256, color = 'green', alpha = 0.5)\n",
    "plt.hist(img_np[:, :, 2].ravel(), bins = 256, color = 'blue', alpha = 0.5)\n",
    "plt.xlabel(\"pixel values\")\n",
    "plt.ylabel(\"relative frequency\")\n",
    "plt.legend(['Total', 'Red_Channel', 'Green_Channel', 'Blue_Channel'])\n",
    "plt.title(\"distribution of pixels\")"
   ]
  },
  {
   "cell_type": "markdown",
   "id": "2c7f0d2c",
   "metadata": {},
   "source": [
    "### ToTensor and Normalize\n",
    "The compose creates a two transformations to prepare the dataset. Torchvision reads datasets into PILImage (Python imaging format). ToTensor converts the PIL Image from range [0, 255] to a FloatTensor of shape (C x H x W) with range [0.0, 1.0] by divided by 255. It then renormalizes the input to [-1, 1] based on the following formula with μ=standard deviation=0.5.\n",
    "\n",
    "- input=(input-mean)/standard deviation \n",
    "- input=(input-0.5)/0.5  for for a mean = 0.5, std = 0.5. \n",
    "\n",
    "The result is normalized to [(0.0-0.5)/0.5 and (1-0.5) /0.5 ], i.e., range1 [-1,1].\n",
    "\n",
    "https://jhui.github.io/2018/02/09/PyTorch-Data-loading-preprocess_torchvision/"
   ]
  },
  {
   "cell_type": "code",
   "execution_count": 32,
   "id": "a11dde19",
   "metadata": {},
   "outputs": [],
   "source": [
    "transformation = transforms.Compose([                             \n",
    "                                    transforms.ToTensor(),\n",
    "                                    transforms.Normalize((0.5, 0.5, 0.5), (0.5, 0.5, 0.5))\n",
    "                                     ])\n",
    "ts=transformation(Image.open(os.path.join(os.getcwd(), \"data/validation/pos/Snipaste_2022-01-12_19-04-13.jpg\") ))\n"
   ]
  },
  {
   "cell_type": "code",
   "execution_count": 33,
   "id": "8642f20a",
   "metadata": {},
   "outputs": [
    {
     "data": {
      "text/plain": [
       "torch.Size([3, 188, 239])"
      ]
     },
     "execution_count": 33,
     "metadata": {},
     "output_type": "execute_result"
    }
   ],
   "source": [
    "ts.shape"
   ]
  },
  {
   "cell_type": "code",
   "execution_count": 34,
   "id": "61b514f0",
   "metadata": {},
   "outputs": [
    {
     "data": {
      "text/plain": [
       "tensor([[[ 0.1686,  0.1686,  0.1686,  ...,  0.5451,  0.5137,  0.4980],\n",
       "         [ 0.1608,  0.1686,  0.1686,  ...,  0.5529,  0.5294,  0.5137],\n",
       "         [ 0.1608,  0.1608,  0.1686,  ...,  0.5686,  0.5529,  0.5294],\n",
       "         ...,\n",
       "         [ 0.4118,  0.4118,  0.4196,  ...,  0.6471,  0.6627,  0.6706],\n",
       "         [ 0.3569,  0.3569,  0.3647,  ...,  0.6471,  0.6627,  0.6784],\n",
       "         [ 0.3490,  0.3490,  0.3569,  ...,  0.6392,  0.6471,  0.6627]],\n",
       "\n",
       "        [[ 0.0039,  0.0039,  0.0039,  ...,  0.5373,  0.5059,  0.4902],\n",
       "         [-0.0039,  0.0039,  0.0039,  ...,  0.5451,  0.5216,  0.5059],\n",
       "         [-0.0039, -0.0039,  0.0039,  ...,  0.5608,  0.5451,  0.5216],\n",
       "         ...,\n",
       "         [ 0.3961,  0.3961,  0.3961,  ...,  0.6314,  0.6471,  0.6471],\n",
       "         [ 0.3412,  0.3412,  0.3490,  ...,  0.6314,  0.6471,  0.6549],\n",
       "         [ 0.3176,  0.3176,  0.3255,  ...,  0.6235,  0.6314,  0.6392]],\n",
       "\n",
       "        [[-0.2078, -0.2078, -0.2078,  ...,  0.5059,  0.4745,  0.4588],\n",
       "         [-0.2157, -0.2078, -0.2078,  ...,  0.5137,  0.4902,  0.4745],\n",
       "         [-0.2157, -0.2157, -0.2078,  ...,  0.5294,  0.5137,  0.4902],\n",
       "         ...,\n",
       "         [ 0.5059,  0.5059,  0.5294,  ...,  0.7333,  0.7490,  0.7333],\n",
       "         [ 0.4510,  0.4510,  0.4588,  ...,  0.7333,  0.7490,  0.7412],\n",
       "         [ 0.4353,  0.4353,  0.4431,  ...,  0.7255,  0.7333,  0.7255]]])"
      ]
     },
     "execution_count": 34,
     "metadata": {},
     "output_type": "execute_result"
    }
   ],
   "source": [
    "ts"
   ]
  },
  {
   "cell_type": "code",
   "execution_count": 36,
   "id": "4202cc86",
   "metadata": {},
   "outputs": [],
   "source": [
    "after_norm=ts.reshape(-1)"
   ]
  },
  {
   "cell_type": "code",
   "execution_count": 37,
   "id": "abb1899f",
   "metadata": {},
   "outputs": [
    {
     "data": {
      "text/plain": [
       "tensor([0.1686, 0.1686, 0.1686,  ..., 0.7255, 0.7333, 0.7255])"
      ]
     },
     "execution_count": 37,
     "metadata": {},
     "output_type": "execute_result"
    }
   ],
   "source": [
    "after_norm"
   ]
  },
  {
   "cell_type": "code",
   "execution_count": 38,
   "id": "d7f0c231",
   "metadata": {},
   "outputs": [
    {
     "data": {
      "text/plain": [
       "torch.Size([134796])"
      ]
     },
     "execution_count": 38,
     "metadata": {},
     "output_type": "execute_result"
    }
   ],
   "source": [
    "after_norm.shape"
   ]
  },
  {
   "cell_type": "code",
   "execution_count": 39,
   "id": "8e6db09b",
   "metadata": {},
   "outputs": [],
   "source": [
    "after_norm=after_norm.numpy()"
   ]
  },
  {
   "cell_type": "code",
   "execution_count": 40,
   "id": "0d7547da",
   "metadata": {},
   "outputs": [
    {
     "data": {
      "text/plain": [
       "array([0.1686275 , 0.1686275 , 0.1686275 , ..., 0.7254902 , 0.73333335,\n",
       "       0.7254902 ], dtype=float32)"
      ]
     },
     "execution_count": 40,
     "metadata": {},
     "output_type": "execute_result"
    }
   ],
   "source": [
    "after_norm"
   ]
  },
  {
   "cell_type": "markdown",
   "id": "b706b0d2",
   "metadata": {},
   "source": [
    "### Draw historam after ToTensor and Normalization"
   ]
  },
  {
   "cell_type": "code",
   "execution_count": 41,
   "id": "bb25959a",
   "metadata": {},
   "outputs": [
    {
     "data": {
      "text/plain": [
       "Text(0.5, 1.0, 'distribution of pixels')"
      ]
     },
     "execution_count": 41,
     "metadata": {},
     "output_type": "execute_result"
    },
    {
     "data": {
      "image/png": "[encoded data removed]",
      "text/plain": [
       "<Figure size 432x288 with 1 Axes>"
      ]
     },
     "metadata": {
      "needs_background": "light"
     },
     "output_type": "display_data"
    }
   ],
   "source": [
    "# plot the pixel values\n",
    "plt.hist(after_norm, bins=256, density=True)\n",
    "plt.xlabel(\"pixel values\")\n",
    "plt.ylabel(\"relative frequency\")\n",
    "plt.title(\"distribution of pixels\")"
   ]
  },
  {
   "cell_type": "code",
   "execution_count": null,
   "id": "f4728e6f",
   "metadata": {},
   "outputs": [],
   "source": []
  }
 ],
 "metadata": {
  "kernelspec": {
   "display_name": "Python 3 (ipykernel)",
   "language": "python",
   "name": "python3"
  },
  "language_info": {
   "codemirror_mode": {
    "name": "ipython",
    "version": 3
   },
   "file_extension": ".py",
   "mimetype": "text/x-python",
   "name": "python",
   "nbconvert_exporter": "python",
   "pygments_lexer": "ipython3",
   "version": "3.9.7"
  }
 },
 "nbformat": 4,
 "nbformat_minor": 5
}
