{
 "cells": [
  {
   "cell_type": "markdown",
   "id": "8f062be2",
   "metadata": {},
   "source": [
    "### CNN Architecture \n",
    "\n",
    " <img src=\"readmeImages/cnn_architecture.jpg\" width=700>\n",
    "\n",
    "[Credit Andrew NG](https://www.youtube.com/watch?v=bXJx7y51cl0)\n",
    "\n",
    "**conv layer: Conv2d(in_channels, out_channels, f)** \n",
    " - filter (kernel) size (f)\n",
    " - filter strip (default s=1)\n",
    " - padding (default p=0)\n",
    " - input channels/features (in_channels)  \n",
    " - output channels/features (out_channels)  \n",
    " - fomular to compute output dimensions,where n is the input dimensions (H)\n",
    " \n",
    " \n",
    "\\begin{equation}\n",
    "  out\\_dimensions=\\frac{n+2p-f}{s}+1\n",
    "\\end{equation}\n",
    "  - example of computing the first conv layer, when p=0, and f=5\n",
    "\n",
    "\\begin{equation}\n",
    "  28=\\frac{32+2(0)-5}{1}+1\n",
    "\\end{equation}\n",
    "\n",
    "**Pooling: MaxPool2d(f, s)**\n",
    "- example of the first pooling layer, when p=0, f=2, and s=2\n",
    "\n",
    "\\begin{equation}\n",
    "  14=\\frac{28-2}{2}+1\n",
    "\\end{equation}\n",
    "\n",
    "**Fully connected (FC)**\n",
    "- Input: input h x w x in_channels\n",
    "- output: the number of neurons \n",
    "- example of the first linear layer: 5 x 5 x 16 = 400"
   ]
  },
  {
   "cell_type": "code",
   "execution_count": null,
   "id": "be3079bc",
   "metadata": {},
   "outputs": [],
   "source": []
  }
 ],
 "metadata": {
  "kernelspec": {
   "display_name": "Python 3 (ipykernel)",
   "language": "python",
   "name": "python3"
  },
  "language_info": {
   "codemirror_mode": {
    "name": "ipython",
    "version": 3
   },
   "file_extension": ".py",
   "mimetype": "text/x-python",
   "name": "python",
   "nbconvert_exporter": "python",
   "pygments_lexer": "ipython3",
   "version": "3.9.7"
  }
 },
 "nbformat": 4,
 "nbformat_minor": 5
}
